{
 "cells": [
  {
   "cell_type": "markdown",
   "metadata": {},
   "source": [
    "# HW4#3 Percepton|"
   ]
  },
  {
   "cell_type": "code",
   "execution_count": 2,
   "metadata": {
    "collapsed": true
   },
   "outputs": [],
   "source": [
    "import csv\n",
    "import numpy \n",
    "import scipy\n",
    "from copy import deepcopy\n",
    "import pandas as pd\n",
    "from sklearn.tree import DecisionTreeClassifier\n",
    "import random\n",
    "import math\n"
   ]
  },
  {
   "cell_type": "markdown",
   "metadata": {},
   "source": [
    "# Import Data and split train and test"
   ]
  },
  {
   "cell_type": "code",
   "execution_count": 3,
   "metadata": {},
   "outputs": [
    {
     "name": "stdout",
     "output_type": "stream",
     "text": [
      "1 have tax problem do you ow the ir monei if your debt is dollarnumb number us or more we can help our licens agent can help you with both past and present tax debt we have direct contact with the ir so onc your applic is process we can help you immedi without further delai also as our client we can offer you other servic and help with other problem our nation recogn tax attornei paraleg legal assist and licens enrol agent can help you with tax prepar audit seizur bank levi asset protect audit reconsider trust fund penalti defens penalti appeal penalti abat wage garnish and more to receiv free inform on tax help pleas fill out the form below and return it to us there ar no oblig and suppli inform is kept strictli confidenti pleas note that thi offer onli appli to us citizen applic process mai take up to number busi dai note for debt size pleas also includ ani penalti or interest full name nbsp nbsp state nbsp nbsp alabama alaska arizona arkansa california colorado connecticut delawar dist of columbia florida georgia hawaii idaho illinoi indiana iowa kansa kentucki louisiana main maryland massachusett michigan minnesota mississippi missouri montana nebraska nevada new hampshir new jersei new mexico new york north carolina north dakota ohio oklahoma oregon pennsylvania rhode island south carolina south dakota tennesse texa utah vermont virginia washington west virginia wisconsin wyom phone number nbsp nbsp time to contact nbsp nbsp tax debt size nbsp nbsp e mail nbsp nbsp nbsp thank you for your time note if you wish to receiv no further advertis regard thi matter or ani other pleas repli to thi e mail with the word remov in the subject qnumberbvqnumberlvqnumb\n"
     ]
    }
   ],
   "source": [
    "data_list=[]\n",
    "data=pd.read_csv('/Users/wendy/Documents/2017 Fall/CS 534/HW4/spamAssassin.data',header=None)\n",
    "for i in range(int(0.7*len(data))):\n",
    "    data_list.append(data[0][i])\n",
    "test_data=[]\n",
    "for i in range(int(0.7*len(data)),len(data)):\n",
    "    test_data.append(data[0][i])\n",
    "print data_list[1]"
   ]
  },
  {
   "cell_type": "markdown",
   "metadata": {},
   "source": [
    "# Calculate word frequency"
   ]
  },
  {
   "cell_type": "code",
   "execution_count": 7,
   "metadata": {},
   "outputs": [
    {
     "name": "stdout",
     "output_type": "stream",
     "text": [
      "['1', 'have', 'tax', 'problem', 'do', 'you', 'ow', 'the', 'ir', 'monei', 'if', 'your', 'debt', 'is', 'dollarnumb', 'number', 'us', 'or', 'more', 'we', 'can', 'help', 'our', 'licens', 'agent', 'can', 'help', 'you', 'with', 'both', 'past', 'and', 'present', 'tax', 'debt', 'we', 'have', 'direct', 'contact', 'with', 'the', 'ir', 'so', 'onc', 'your', 'applic', 'is', 'process', 'we', 'can', 'help', 'you', 'immedi', 'without', 'further', 'delai', 'also', 'as', 'our', 'client', 'we', 'can', 'offer', 'you', 'other', 'servic', 'and', 'help', 'with', 'other', 'problem', 'our', 'nation', 'recogn', 'tax', 'attornei', 'paraleg', 'legal', 'assist', 'and', 'licens', 'enrol', 'agent', 'can', 'help', 'you', 'with', 'tax', 'prepar', 'audit', 'seizur', 'bank', 'levi', 'asset', 'protect', 'audit', 'reconsider', 'trust', 'fund', 'penalti', 'defens', 'penalti', 'appeal', 'penalti', 'abat', 'wage', 'garnish', 'and', 'more', 'to', 'receiv', 'free', 'inform', 'on', 'tax', 'help', 'pleas', 'fill', 'out', 'the', 'form', 'below', 'and', 'return', 'it', 'to', 'us', 'there', 'ar', 'no', 'oblig', 'and', 'suppli', 'inform', 'is', 'kept', 'strictli', 'confidenti', 'pleas', 'note', 'that', 'thi', 'offer', 'onli', 'appli', 'to', 'us', 'citizen', 'applic', 'process', 'mai', 'take', 'up', 'to', 'number', 'busi', 'dai', 'note', 'for', 'debt', 'size', 'pleas', 'also', 'includ', 'ani', 'penalti', 'or', 'interest', 'full', 'name', 'nbsp', 'nbsp', 'state', 'nbsp', 'nbsp', 'alabama', 'alaska', 'arizona', 'arkansa', 'california', 'colorado', 'connecticut', 'delawar', 'dist', 'of', 'columbia', 'florida', 'georgia', 'hawaii', 'idaho', 'illinoi', 'indiana', 'iowa', 'kansa', 'kentucki', 'louisiana', 'main', 'maryland', 'massachusett', 'michigan', 'minnesota', 'mississippi', 'missouri', 'montana', 'nebraska', 'nevada', 'new', 'hampshir', 'new', 'jersei', 'new', 'mexico', 'new', 'york', 'north', 'carolina', 'north', 'dakota', 'ohio', 'oklahoma', 'oregon', 'pennsylvania', 'rhode', 'island', 'south', 'carolina', 'south', 'dakota', 'tennesse', 'texa', 'utah', 'vermont', 'virginia', 'washington', 'west', 'virginia', 'wisconsin', 'wyom', 'phone', 'number', 'nbsp', 'nbsp', 'time', 'to', 'contact', 'nbsp', 'nbsp', 'tax', 'debt', 'size', 'nbsp', 'nbsp', 'e', 'mail', 'nbsp', 'nbsp', 'nbsp', 'thank', 'you', 'for', 'your', 'time', 'note', 'if', 'you', 'wish', 'to', 'receiv', 'no', 'further', 'advertis', 'regard', 'thi', 'matter', 'or', 'ani', 'other', 'pleas', 'repli', 'to', 'thi', 'e', 'mail', 'with', 'the', 'word', 'remov', 'in', 'the', 'subject', 'qnumberbvqnumberlvqnumb']\n"
     ]
    }
   ],
   "source": [
    "train=[]\n",
    "for i in range(len(data_list)):\n",
    "    train.append(data_list[i].split(' '))\n",
    "print train[1]\n",
    "test=[]\n",
    "for i in range(len(test_data)):\n",
    "    test.append(test_data[i].split(' '))\n",
    "class_vote={}\n",
    "for j in range(len(train)):\n",
    "    for i in range(1,len(train[j])):\n",
    "        if train[j][i] in class_vote:\n",
    "            class_vote[train[j][i]]+=1\n",
    "        else:\n",
    "            class_vote[train[j][i]]=1\n",
    "class_vote_key=list(class_vote.keys())\n",
    "for i in class_vote_key:\n",
    "    if class_vote[i]<30:\n",
    "        del class_vote[i]"
   ]
  },
  {
   "cell_type": "markdown",
   "metadata": {},
   "source": [
    "# Data transformation"
   ]
  },
  {
   "cell_type": "code",
   "execution_count": 5,
   "metadata": {
    "collapsed": true
   },
   "outputs": [],
   "source": [
    "train_list=[]\n",
    "for sample in train:\n",
    "    sample_list=[]\n",
    "    if sample[0]=='0':\n",
    "        sample_list.append(1)\n",
    "    else:\n",
    "        sample_list.append(-1)\n",
    "    for i in class_vote:\n",
    "        if i in sample:\n",
    "            sample_list.append(1)\n",
    "        else:\n",
    "            sample_list.append(0)\n",
    "    train_list.append(sample_list)\n",
    "test_list=[]\n",
    "for sample in test:\n",
    "    sample_list=[]\n",
    "    if sample[0]=='0':\n",
    "        sample_list.append(1)\n",
    "    else:\n",
    "        sample_list.append(-1)\n",
    "    for i in class_vote:\n",
    "        if i in sample:\n",
    "            sample_list.append(1)\n",
    "        else:\n",
    "            sample_list.append(0)\n",
    "    test_list.append(sample_list)"
   ]
  },
  {
   "cell_type": "code",
   "execution_count": 6,
   "metadata": {
    "collapsed": true
   },
   "outputs": [],
   "source": [
    "train_array=numpy.array(train_list)\n",
    "test_array=numpy.array(test_list)\n",
    "trainy=train_array[:,0]\n",
    "trainx=train_array[:,1:3380]\n",
    "testy=test_array[:,0]\n",
    "testx=test_array[:,1:3380]"
   ]
  },
  {
   "cell_type": "markdown",
   "metadata": {},
   "source": [
    "# perceptron algorithm"
   ]
  },
  {
   "cell_type": "code",
   "execution_count": 50,
   "metadata": {
    "collapsed": true
   },
   "outputs": [],
   "source": [
    "def precrpton(echo,learning):\n",
    "    w=numpy.zeros(shape=(1,3379))\n",
    "    err_list=[]\n",
    "    for i in range(echo):\n",
    "        w_list=[]\n",
    "        for sample in range(len(trainx)):\n",
    "            a=w*trainx[sample]\n",
    "            s=0\n",
    "            for x in a[0]:\n",
    "                s+=x\n",
    "            if s<0:\n",
    "                prediction=-1\n",
    "            else:\n",
    "                prediction=1\n",
    "       \n",
    "            if prediction!=trainy[sample]:\n",
    "    \n",
    "                w=w+learning*trainy[sample]*trainx[sample]\n",
    "        \n",
    "    train_err=0\n",
    "    test_err=0\n",
    "    for sample in range(len(testx)):\n",
    "        a=w*testx[sample]\n",
    "        s=0\n",
    "        for x in a[0]:\n",
    "             s+=x\n",
    "        if s<0:\n",
    "             prediction=-1\n",
    "        else:\n",
    "             prediction=1\n",
    "        if prediction!=testy[sample]:\n",
    "            test_err+=1\n",
    "    for sample in range(len(trainx)):\n",
    "        a=w*trainx[sample]\n",
    "        s=0\n",
    "        for x in a[0]:\n",
    "             s+=x\n",
    "        if s<0:\n",
    "             prediction=-1\n",
    "        else:\n",
    "             prediction=1\n",
    "        if prediction!=trainy[sample]:\n",
    "            train_err+=1\n",
    "    return train_err,test_err,w"
   ]
  },
  {
   "cell_type": "markdown",
   "metadata": {},
   "source": [
    "# perceptron algorithm with average coefficients"
   ]
  },
  {
   "cell_type": "code",
   "execution_count": 51,
   "metadata": {
    "collapsed": true
   },
   "outputs": [],
   "source": [
    "def average_precrpton(echo,learning):\n",
    "    w=numpy.zeros(shape=(1,3379))\n",
    "    err_list=[]\n",
    "    for i in range(echo):\n",
    "        w_list=[]\n",
    "        for sample in range(len(trainx)):\n",
    "            a=w*trainx[sample]\n",
    "            s=0\n",
    "            for x in a[0]:\n",
    "                s+=x\n",
    "            if s<0:\n",
    "                prediction=-1\n",
    "            else:\n",
    "                prediction=1\n",
    "       \n",
    "            if prediction!=trainy[sample]:\n",
    "    \n",
    "                w=w+learning*trainy[sample]*trainx[sample]\n",
    "            w_list.append(w)\n",
    "            w=sum(w_list)/len(trainx)\n",
    "        \n",
    "    train_err=0\n",
    "    test_err=0\n",
    "    for sample in range(len(testx)):\n",
    "        a=w*testx[sample]\n",
    "        s=0\n",
    "        for x in a[0]:\n",
    "             s+=x\n",
    "        if s<0:\n",
    "             prediction=-1\n",
    "        else:\n",
    "             prediction=1\n",
    "        if prediction!=testy[sample]:\n",
    "            test_err+=1\n",
    "    for sample in range(len(trainx)):\n",
    "        a=w*trainx[sample]\n",
    "        s=0\n",
    "        for x in a[0]:\n",
    "             s+=x\n",
    "        if s<0:\n",
    "             prediction=-1\n",
    "        else:\n",
    "             prediction=1\n",
    "        if prediction!=trainy[sample]:\n",
    "            train_err+=1\n",
    "    return train_err,test_err,w"
   ]
  },
  {
   "cell_type": "markdown",
   "metadata": {},
   "source": [
    "# find the optimal paramater"
   ]
  },
  {
   "cell_type": "code",
   "execution_count": 52,
   "metadata": {
    "collapsed": true
   },
   "outputs": [],
   "source": [
    "train_err_list1=[]\n",
    "train_err_list2=[]\n",
    "test_err_list1=[]\n",
    "test_err_list2=[]\n",
    "for i in range(20):\n",
    "    trainerr_1,testerr_1,w1=precrpton(i,0.05)\n",
    "    trainerr_2,testerr_2,w2=average_precrpton(i,0.05)\n",
    "    train_err_list1.append(trainerr_1)\n",
    "    train_err_list2.append(trainerr_2)\n",
    "    test_err_list1.append(testerr_1)\n",
    "    test_err_list2.append(testerr_2)\n",
    "    "
   ]
  },
  {
   "cell_type": "code",
   "execution_count": 58,
   "metadata": {},
   "outputs": [
    {
     "name": "stdout",
     "output_type": "stream",
     "text": [
      "[1331, 45, 43, 11, 3, 6, 5, 3, 2, 2, 3, 2, 1, 0, 0, 0, 0, 0, 0, 0] [1331, 60, 37, 51, 49, 57, 73, 49, 50, 58, 73, 49, 50, 58, 73, 49, 50, 58, 73, 49] [546, 43, 51, 34, 39, 46, 37, 43, 42, 41, 38, 44, 38, 38, 38, 38, 38, 38, 38, 38] [546, 54, 48, 51, 44, 52, 60, 49, 53, 52, 60, 49, 53, 52, 60, 49, 53, 52, 60, 49]\n"
     ]
    }
   ],
   "source": [
    "index=[1,2,3,4,5,6,7,8,9,10,11,12,13,14,15,16,17,18,19]\n",
    "print train_err_list1,train_err_list2,test_err_list1,test_err_list2"
   ]
  },
  {
   "cell_type": "code",
   "execution_count": 62,
   "metadata": {},
   "outputs": [
    {
     "data": {
      "image/png": "[encoded data removed]",
      "text/plain": [
       "<matplotlib.figure.Figure at 0x1215ac650>"
      ]
     },
     "metadata": {},
     "output_type": "display_data"
    }
   ],
   "source": [
    "from matplotlib import pyplot as plt\n",
    "ax=plt.gca()\n",
    "ax.plot(index,train_err_list1[1:20],\"g\",label=\"train_err_list1\")\n",
    "ax.plot(index,train_err_list2[1:20],\"r\",label=\"train_err_list2\")\n",
    "ax.plot(index,test_err_list1[1:20],\"b\",label=\"test_err_list1\")\n",
    "ax.plot(index,test_err_list2[1:20],\"c\",label=\"test_err_list2\")\n",
    "plt.legend()\n",
    "plt.show()"
   ]
  },
  {
   "cell_type": "markdown",
   "metadata": {},
   "source": [
    "Based on the graph, we can see that the first algrithm which updates the coefficients with each misclassified sample has better peroormance.\n",
    "With enough amount of training data, the err_rate will goes to 0.\n",
    "The best max number of epoch is four with the lowest err_rate on test data."
   ]
  },
  {
   "cell_type": "code",
   "execution_count": 98,
   "metadata": {},
   "outputs": [
    {
     "name": "stdout",
     "output_type": "stream",
     "text": [
      "the 5 most negative words are:\n",
      "('wrote', 1188)\n",
      "('which', 2153)\n",
      "('copyright', 375)\n",
      "('date', 966)\n",
      "('ll', 917)\n",
      "the 5 most negative words are:\n",
      "('sight', 158)\n",
      "('remov', 1510)\n",
      "('click', 1846)\n",
      "('deathtospamdeathtospamdeathtospam', 116)\n",
      "('market', 1141)\n"
     ]
    }
   ],
   "source": [
    "train_err,test_err,coef=precrpton(4,0.05)\n",
    "\n",
    "coef=numpy.array(coef)\n",
    "import heapq\n",
    "positive_words=heapq.nlargest(5, xrange(len(coef[0])), coef.take)\n",
    "print \"the 5 most negative words are:\"\n",
    "for i in positive_words:\n",
    "    print class_vote.items()[i]\n",
    "    \n",
    "negative_words=heapq.nsmallest(5, xrange(len(coef[0])), coef.take)\n",
    "print \"the 5 most negative words are:\"\n",
    "for i in negative_words:\n",
    "    print class_vote.items()[i]"
   ]
  },
  {
   "cell_type": "code",
   "execution_count": null,
   "metadata": {
    "collapsed": true
   },
   "outputs": [],
   "source": []
  }
 ],
 "metadata": {
  "kernelspec": {
   "display_name": "Python 2",
   "language": "python",
   "name": "python2"
  },
  "language_info": {
   "codemirror_mode": {
    "name": "ipython",
    "version": 2
   },
   "file_extension": ".py",
   "mimetype": "text/x-python",
   "name": "python",
   "nbconvert_exporter": "python",
   "pygments_lexer": "ipython2",
   "version": "2.7.13"
  }
 },
 "nbformat": 4,
 "nbformat_minor": 2
}
