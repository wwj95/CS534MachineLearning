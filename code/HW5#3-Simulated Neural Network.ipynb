{
 "cells": [
  {
   "cell_type": "markdown",
   "metadata": {},
   "source": [
    "# Simulate data"
   ]
  },
  {
   "cell_type": "code",
   "execution_count": 97,
   "metadata": {},
   "outputs": [],
   "source": [
    "import random\n",
    "import numpy as np\n",
    "rangeX = (-50, 50)\n",
    "rangeY = (-2500, 2500)\n",
    "#X=[]\n",
    "#Y=[]\n",
    "positive=0\n",
    "negative=0\n",
    "sample=[]\n",
    "target=[]\n",
    "for i in range(1000):\n",
    "    x = random.randrange(*rangeX)\n",
    "    #X.append(x)\n",
    "    y = random.randrange(*rangeY)\n",
    "    #Y.append(y)\n",
    "    if y>=x**2:\n",
    "        sample.append((x,y))\n",
    "        target.append(1)\n",
    "        positive+=1\n",
    "    else:\n",
    "        sample.append((x,y))\n",
    "        target.append(0)\n",
    "        negative+=1\n",
    "#sample_array=np.array(sample)\n",
    "#print sample,target,positive,negative"
   ]
  },
  {
   "cell_type": "markdown",
   "metadata": {},
   "source": [
    "# Split train and test"
   ]
  },
  {
   "cell_type": "code",
   "execution_count": 76,
   "metadata": {
    "collapsed": true
   },
   "outputs": [],
   "source": [
    "from sklearn.model_selection import train_test_split\n",
    "X_train, X_test, y_train, y_test = train_test_split(sample, target, test_size=0.3, random_state=0)"
   ]
  },
  {
   "cell_type": "markdown",
   "metadata": {},
   "source": [
    "# Use cross validation to find the optimal parameter"
   ]
  },
  {
   "cell_type": "code",
   "execution_count": 98,
   "metadata": {},
   "outputs": [
    {
     "name": "stdout",
     "output_type": "stream",
     "text": [
      "the optimal alpha is: 233.572146909\n",
      "the optimal number of hidden layer is: 8\n"
     ]
    }
   ],
   "source": [
    "from sklearn.neural_network import MLPClassifier\n",
    "from sklearn.model_selection import cross_val_score\n",
    "r=np.logspace(-5,5,num=20)\n",
    "h=np.arange(10)\n",
    "best_score=0\n",
    "for a in r:\n",
    "    for b in h:\n",
    "        clf = MLPClassifier(solver='lbfgs', alpha=a,hidden_layer_sizes=(b+1,), random_state=1)\n",
    "        clf.fit(X_train,y_train)\n",
    "        scores = cross_val_score(clf, X_train,y_train, scoring='accuracy',cv=5)\n",
    "        score_mean=max(scores)\n",
    "        if score_mean>=best_score:\n",
    "            best_score=score_mean\n",
    "            best_alpha=a\n",
    "            best_hidden=b+1\n",
    "        #print a, b+1, best_hidden\n",
    "print 'the optimal alpha is:',best_alpha\n",
    "print 'the optimal number of hidden layer is:',best_hidden   "
   ]
  },
  {
   "cell_type": "markdown",
   "metadata": {},
   "source": [
    "# Evaluate final neural network on test data"
   ]
  },
  {
   "cell_type": "code",
   "execution_count": 96,
   "metadata": {},
   "outputs": [
    {
     "name": "stdout",
     "output_type": "stream",
     "text": [
      "the accuracy is: 0.95\n"
     ]
    }
   ],
   "source": [
    "clf = MLPClassifier(solver='lbfgs', alpha=233.572146909,hidden_layer_sizes=(8,), random_state=1)\n",
    "clf.fit(X_train,y_train)\n",
    "prediction=clf.predict(X_test)\n",
    "err=0\n",
    "for i in range(len(prediction)):\n",
    "    if prediction[i]!=y_test[i]:\n",
    "        err+=1\n",
    "print  \"the accuracy is:\",1-float(err)/len(y_test)"
   ]
  },
  {
   "cell_type": "markdown",
   "metadata": {},
   "source": [
    "# find out the posicitve prediction"
   ]
  },
  {
   "cell_type": "code",
   "execution_count": 91,
   "metadata": {
    "collapsed": true
   },
   "outputs": [],
   "source": [
    "pre_positive_x=[]\n",
    "pre_positive_y=[]\n",
    "for i in range(len(prediction)):\n",
    "    if prediction[i]==1:   \n",
    "        pre_positive_x.append(X_test[i][0])\n",
    "        pre_positive_y.append(X_test[i][1])"
   ]
  },
  {
   "cell_type": "markdown",
   "metadata": {},
   "source": [
    "# Show the linear boundary"
   ]
  },
  {
   "cell_type": "code",
   "execution_count": 94,
   "metadata": {},
   "outputs": [
    {
     "data": {
      "image/png": "[encoded data removed]",
      "text/plain": [
       "<matplotlib.figure.Figure at 0x10ef77190>"
      ]
     },
     "metadata": {},
     "output_type": "display_data"
    }
   ],
   "source": [
    "#pre_positive_array=np.array(pre_positive)\n",
    "import matplotlib.pyplot as plt\n",
    "plt.scatter(pre_positive_x,pre_positive_y)\n",
    "plt.xlim(-100,100)\n",
    "plt.ylim(-100,3000)\n",
    "plt.show()"
   ]
  },
  {
   "cell_type": "code",
   "execution_count": null,
   "metadata": {
    "collapsed": true
   },
   "outputs": [],
   "source": []
  }
 ],
 "metadata": {
  "kernelspec": {
   "display_name": "Python 2",
   "language": "python",
   "name": "python2"
  },
  "language_info": {
   "codemirror_mode": {
    "name": "ipython",
    "version": 2
   },
   "file_extension": ".py",
   "mimetype": "text/x-python",
   "name": "python",
   "nbconvert_exporter": "python",
   "pygments_lexer": "ipython2",
   "version": "2.7.13"
  }
 },
 "nbformat": 4,
 "nbformat_minor": 2
}
