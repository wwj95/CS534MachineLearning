{
 "cells": [
  {
   "cell_type": "markdown",
   "metadata": {},
   "source": [
    "\n",
    "$\\mu1=[0,0]$\n",
    "\n",
    "$\\mu2=[2,4]$\n",
    "$\n",
    "\\Sigma1=\n",
    "\\left\\{\n",
    "  \\begin{matrix}\n",
    "   2 & 1  \\\\\n",
    "   1 & 2 \\\\\n",
    "  \\end{matrix} \\tag{1}\n",
    "\\right\\}\n",
    "$\n",
    "\n",
    "$\n",
    "\\Sigma2=\n",
    "\\left\\{\n",
    "  \\begin{matrix}\n",
    "   2 & 1.5  \\\\\n",
    "   1.5 & 2 \\\\\n",
    "  \\end{matrix} \\tag{1}\n",
    "\\right\\}\n",
    "$\n",
    "\n",
    "$P(C1|x)=P(C2|x)$\n",
    "\n",
    "$P(x|C1)P(C1)=P(x|C2)P(C2)$\n",
    "\n",
    "$P(C1)=0.6$\n",
    "\n",
    "$P(C2)=0.4$\n"
   ]
  },
  {
   "cell_type": "code",
   "execution_count": 62,
   "metadata": {
    "collapsed": true
   },
   "outputs": [],
   "source": [
    "import numpy as np\n",
    "import random\n",
    "import matplotlib.pyplot as plt\n",
    "import math"
   ]
  },
  {
   "cell_type": "markdown",
   "metadata": {},
   "source": [
    "# Generating Random sample"
   ]
  },
  {
   "cell_type": "code",
   "execution_count": 49,
   "metadata": {
    "collapsed": true
   },
   "outputs": [],
   "source": [
    "mean = [0, 0]\n",
    "cov = [[2, 1], [1, 2]]\n",
    "train_x1,train_x2 = np.random.multivariate_normal(mean, cov, 13).T\n",
    "train=[]\n",
    "for i in range(len(train_x1)):\n",
    "    train.append((train_x1[i],train_x2[i],1))\n",
    "mean = [2, 4]\n",
    "cov = [[2, 1.5], [1.5, 2]]\n",
    "train_x1,train_x2 = np.random.multivariate_normal(mean, cov, 7).T\n",
    "for i in range(len(train_x1)):\n",
    "    train.append((train_x1[i],train_x2[i],2))\n",
    "train_array=np.array(train)"
   ]
  },
  {
   "cell_type": "code",
   "execution_count": 50,
   "metadata": {},
   "outputs": [],
   "source": [
    "mean = [0, 0]\n",
    "cov = [[2, 1], [1, 2]]\n",
    "test_x1,test_x2 = np.random.multivariate_normal(mean, cov, 6).T\n",
    "test=[]\n",
    "for i in range(len(test_x1)):\n",
    "    test.append((test_x1[i],test_x2[i],1))\n",
    "mean = [2, 4]\n",
    "cov = [[2, 1.5], [1.5, 2]]\n",
    "test_x1,test_x2 = np.random.multivariate_normal(mean, cov, 4).T\n",
    "for i in range(len(test_x1)):\n",
    "    test.append((test_x1[i],test_x2[i],2))\n",
    "test_array=np.array(test)"
   ]
  },
  {
   "cell_type": "markdown",
   "metadata": {},
   "source": [
    "# optimal Bayes error rate"
   ]
  },
  {
   "cell_type": "code",
   "execution_count": 57,
   "metadata": {},
   "outputs": [
    {
     "name": "stdout",
     "output_type": "stream",
     "text": [
      "optimal Bayes error rate is: 0\n"
     ]
    }
   ],
   "source": [
    "predict=[]\n",
    "err=0\n",
    "for i in test:\n",
    "    y=5*i[0]**2+24*i[0]+5*i[1]**2-60*i[1]-11*i[1]*i[0]+96-21*math.log((4/math.sqrt(21)),math.e)\n",
    "    if y>=0:\n",
    "        pre=1\n",
    "    else:\n",
    "        pre=2\n",
    "    predict.append((i,pre))\n",
    "    if i[2]!=pre:\n",
    "        err+=1\n",
    "print \"optimal Bayes error rate is:\", err"
   ]
  },
  {
   "cell_type": "markdown",
   "metadata": {},
   "source": [
    "# Calculate mean and variance "
   ]
  },
  {
   "cell_type": "code",
   "execution_count": 58,
   "metadata": {
    "collapsed": true
   },
   "outputs": [],
   "source": [
    "c1_train=[]\n",
    "c2_train=[]\n",
    "for i in train:\n",
    "    if i[2]==1:\n",
    "        c1_train.append((i[0],i[1]))\n",
    "    else:\n",
    "        c2_train.append((i[0],i[1]))\n",
    "c1=np.array(c1_train)\n",
    "c2=np.array(c2_train)\n",
    "        \n",
    "sumx1_c1=0\n",
    "for i in c1_train:\n",
    "    sumx1_c1+=i[0]\n",
    "sumx1_c1=sumx1_c1/len(c1_train)\n",
    "sumx2_c1=0\n",
    "for i in c1_train:\n",
    "    sumx2_c1+=i[1]\n",
    "sumx2_c1=sumx2_c1/len(c1_train)\n",
    "\n",
    "sumx1_c2=0\n",
    "for i in c2_train:\n",
    "    sumx1_c2+=i[0]\n",
    "sumx1_c2=sumx1_c2/len(c2_train)\n",
    "sumx2_c2=0\n",
    "for i in c2_train:\n",
    "    sumx2_c2+=i[1]\n",
    "sumx2_c2=sumx2_c2/len(c1_train)\n",
    "u1=np.array([sumx1_c1,sumx2_c1])\n",
    "data_mean_1=c1-u1\n",
    "u2=np.array([sumx1_c2,sumx2_c2])\n",
    "data_mean_2=c2-u2\n",
    "Sw=data_mean_1.T.dot(data_mean_1)+data_mean_2.T.dot(data_mean_2)\n",
    "Sw1=data_mean_1.T.dot(data_mean_1)\n",
    "Sw2=data_mean_2.T.dot(data_mean_2)"
   ]
  },
  {
   "cell_type": "markdown",
   "metadata": {},
   "source": [
    "# LDA"
   ]
  },
  {
   "cell_type": "code",
   "execution_count": 59,
   "metadata": {},
   "outputs": [
    {
     "name": "stdout",
     "output_type": "stream",
     "text": [
      "LDA error rate: 1\n"
     ]
    }
   ],
   "source": [
    "def LDA(u,x,k):\n",
    "    y=np.dot(np.dot(x.T,Sw**(-1)),u)-0.5*np.dot(np.dot(u.T,Sw**(-1)),u)+math.log(k)\n",
    "    return y\n",
    "test_array=np.array(test)\n",
    "result=[]\n",
    "err=0\n",
    "for i in test_array:\n",
    "    C1=LDA(u1,i[0:2],0.6)\n",
    "    C2=LDA(u2,i[0:2],0.4)\n",
    "    #print C1,C2\n",
    "    if C1>C2:\n",
    "        pre=1\n",
    "    else:\n",
    "        pre=2\n",
    "    if pre!=i[2]:\n",
    "        err+=1\n",
    "    result.append((pre,i[2]))\n",
    "print \"LDA error rate:\",err"
   ]
  },
  {
   "cell_type": "markdown",
   "metadata": {},
   "source": [
    "# QDA"
   ]
  },
  {
   "cell_type": "code",
   "execution_count": 54,
   "metadata": {},
   "outputs": [
    {
     "name": "stdout",
     "output_type": "stream",
     "text": [
      "0\n"
     ]
    }
   ],
   "source": [
    "Sw1=data_mean_1.T.dot(data_mean_1)\n",
    "Sw2=data_mean_2.T.dot(data_mean_2)\n",
    "def QDA(u,Sw,x,k):\n",
    "    y=-0.5*math.log(np.linalg.det(Sw))-0.5*(x-u).T.dot(Sw**(-1)).dot(x-u)+math.log(k)\n",
    "    return y\n",
    "result=[]\n",
    "err=0\n",
    "for i in test_array:\n",
    "    #print i\n",
    "    C1=QDA(u1,Sw1,i[0:2],0.6)\n",
    "    C2=QDA(u2,Sw2,i[0:2],0.4)\n",
    "    if C1>C2:\n",
    "        pre=1\n",
    "    else:\n",
    "        pre=2\n",
    "    if pre!=i[2]:\n",
    "        err+=1\n",
    "    result.append((pre,i[2]))\n",
    "print err"
   ]
  },
  {
   "cell_type": "markdown",
   "metadata": {},
   "source": [
    "# Regularized discriminant analysis. Plot the misclassification rate of both the train data and the test data as a function of α."
   ]
  },
  {
   "cell_type": "code",
   "execution_count": 60,
   "metadata": {},
   "outputs": [
    {
     "data": {
      "image/png": "[encoded data removed]",
      "text/plain": [
       "<matplotlib.figure.Figure at 0x111b9ff50>"
      ]
     },
     "metadata": {},
     "output_type": "display_data"
    }
   ],
   "source": [
    "def RDA(a,u,Swi,Sw,x,k):\n",
    "    Sw_R=a*Swi+(1-a)*Sw\n",
    "    y=-0.5*math.log(np.linalg.det(Sw_R))-0.5*(x-u).T.dot(Sw_R**(-1)).dot(x-u)+math.log(k)\n",
    "    return y\n",
    "a=[]\n",
    "for i in range(100):\n",
    "    a.append(0+0.01*i)\n",
    "    \n",
    "def err_rate(x):    \n",
    "    result=[]\n",
    "    for i in a:\n",
    "        err=0\n",
    "        for j in x:\n",
    "            C1=RDA(i,u1,Sw1,Sw,j[0:2],0.6)\n",
    "            C2=RDA(i,u2,Sw2,Sw,j[0:2],0.4)\n",
    "            if C1>C2:\n",
    "                pre=1\n",
    "            else:\n",
    "                pre=2\n",
    "            if pre!=j[2]:\n",
    "                err+=1\n",
    "        result.append(err)\n",
    "    return result\n",
    "\n",
    "train_error=err_rate(train_array)\n",
    "test_error=err_rate(test_array)\n",
    "import matplotlib.pyplot as plt\n",
    "plt.plot(a,train_error,\"g-\",label=\"train\")\n",
    "plt.plot(a,test_error,\"r-.\",label=\"test\")\n",
    "plt.legend()\n",
    "plt.show()\n",
    "\n"
   ]
  },
  {
   "cell_type": "markdown",
   "metadata": {
    "collapsed": true
   },
   "source": [
    "As shown on the graph, training data has higher err-rate than test data. With the increase of α, the err rate of both training and test data decrease."
   ]
  },
  {
   "cell_type": "code",
   "execution_count": null,
   "metadata": {
    "collapsed": true
   },
   "outputs": [],
   "source": []
  },
  {
   "cell_type": "code",
   "execution_count": null,
   "metadata": {
    "collapsed": true
   },
   "outputs": [],
   "source": []
  }
 ],
 "metadata": {
  "kernelspec": {
   "display_name": "Python 2",
   "language": "python",
   "name": "python2"
  },
  "language_info": {
   "codemirror_mode": {
    "name": "ipython",
    "version": 2
   },
   "file_extension": ".py",
   "mimetype": "text/x-python",
   "name": "python",
   "nbconvert_exporter": "python",
   "pygments_lexer": "ipython2",
   "version": "2.7.13"
  }
 },
 "nbformat": 4,
 "nbformat_minor": 2
}
