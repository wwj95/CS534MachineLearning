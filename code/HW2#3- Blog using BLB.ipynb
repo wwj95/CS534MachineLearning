{
 "cells": [
  {
   "cell_type": "markdown",
   "metadata": {},
   "source": [
    "\n",
    "# Load Data"
   ]
  },
  {
   "cell_type": "code",
   "execution_count": 17,
   "metadata": {
    "collapsed": true
   },
   "outputs": [],
   "source": [
    "import csv\n",
    "import numpy\n",
    "import scipy\n",
    "from sklearn import linear_model\n",
    "from math import sqrt\n",
    "import matplotlib.pyplot as plt\n",
    "training_list=[]\n",
    "validate_list=[]\n",
    "testdata_list=[]\n",
    "\n",
    "tradata=csv.reader(open('/Users/wendy/Documents/2017 Fall/CS 534/homework1/BlogFeedback/blogData_train.csv'))\n",
    "for row in tradata:\n",
    "    training_list.append(row)\n",
    "    \n",
    "valdata=csv.reader(open('/Users/wendy/Documents/2017 Fall/CS 534/homework1/BlogFeedback/blogData_validate.csv'))\n",
    "for row in valdata:\n",
    "    validate_list.append(row)\n",
    "    \n",
    "testdata=csv.reader(open('/Users/wendy/Documents/2017 Fall/CS 534/homework1/BlogFeedback/blogData_test.csv'))\n",
    "for row in testdata:\n",
    "    testdata_list.append(row)\n",
    "    \n",
    "training_list=numpy.array(training_list,dtype=float)\n",
    "validate_list=numpy.array(validate_list,dtype=float)\n",
    "testdate_list=numpy.array(validate_list,dtype=float)\n",
    "\n",
    "ytrain=training_list[:,280]\n",
    "xtrain=training_list[:, 0:279]\n",
    "yval=validate_list[:,280]\n",
    "xval=validate_list[:,0:279]\n",
    "xtest=testdate_list[:,0:279]\n",
    "ytest=testdate_list[:,280]"
   ]
  },
  {
   "cell_type": "markdown",
   "metadata": {},
   "source": [
    "# Normalization"
   ]
  },
  {
   "cell_type": "code",
   "execution_count": 37,
   "metadata": {
    "collapsed": true
   },
   "outputs": [],
   "source": [
    "import random\n",
    "\n",
    "for i in range(len(training_list[0])):\n",
    "    mu=numpy.average(training_list[:,i])\n",
    "    sigma=numpy.std(training_list[:,i])\n",
    "    for j in range(len(training_list)):\n",
    "        if sigma!=0:\n",
    "            training_list[j,i] = ( training_list[j,i] - mu) / sigma \n",
    "\n",
    "ytrain=training_list[:,280]\n",
    "xtrain=training_list[:, 0:279]\n",
    "    "
   ]
  },
  {
   "cell_type": "markdown",
   "metadata": {},
   "source": [
    "# Implmentation of BLB"
   ]
  },
  {
   "cell_type": "code",
   "execution_count": 46,
   "metadata": {
    "collapsed": true
   },
   "outputs": [],
   "source": [
    "def BLB(b,s,r):\n",
    "    data=[]\n",
    "    All_w=[]\n",
    "    for i in range(s):\n",
    "        subsample=random.sample(training_list,b) \n",
    "        subsample_array=numpy.array(subsample)\n",
    "        xsample=subsample_array[:, 0:279]\n",
    "        ysample=subsample_array[:, 280]\n",
    "        w=[]\n",
    "        for k in range(r):\n",
    "            bootstrapx=[]\n",
    "            bootstrapy=[]\n",
    "            for j in range(b):\n",
    "                j=random.randint(0,b-1)\n",
    "                bootx=xsample[j]\n",
    "                booty=ysample[j]\n",
    "                bootstrapx.append(bootx)\n",
    "                bootstrapy.append(booty)\n",
    "            linear=linear_model.LinearRegression()\n",
    "            linear.fit(bootstrapx,bootstrapy)\n",
    "            w.append(linear.coef_)\n",
    "            k+=1\n",
    "            \n",
    "        All_w.append(w)\n",
    "    return All_w"
   ]
  },
  {
   "cell_type": "markdown",
   "metadata": {},
   "source": [
    "# Calculate True coefficient based on whole training data"
   ]
  },
  {
   "cell_type": "code",
   "execution_count": 183,
   "metadata": {},
   "outputs": [],
   "source": [
    "linear_whole=linear_model.LinearRegression()\n",
    "linear_whole.fit(xtrain,ytrain)\n",
    "w_true=linear_whole.coef_\n"
   ]
  },
  {
   "cell_type": "markdown",
   "metadata": {},
   "source": [
    "# b=n^0.7 andr=100. Plot the err rate as afunction of s<100"
   ]
  },
  {
   "cell_type": "code",
   "execution_count": 202,
   "metadata": {},
   "outputs": [
    {
     "name": "stdout",
     "output_type": "stream",
     "text": [
      "3.70772093896e+15 1\n",
      "2.61991414838e+15 2\n",
      "2.27366694126e+15 3\n",
      "2.30474477303e+15 4\n",
      "2.50032118724e+15 5\n",
      "2.63152793404e+15 6\n",
      "2.60632701465e+15 7\n",
      "2.71380510149e+15 8\n",
      "2.59695772802e+15 9\n",
      "2.48697434391e+15 10\n",
      "2.5690081391e+15 11\n",
      "2.46807329147e+15 12\n",
      "2.66871691979e+15 13\n",
      "2.51470259847e+15 14\n",
      "2.29262785764e+15 15\n",
      "2.53953583758e+15 16\n",
      "2.19304570991e+15 17\n",
      "2.68931059934e+15 18\n",
      "2.47464892182e+15 19\n",
      "2.37233377939e+15 20\n",
      "2.52600655812e+15 21\n",
      "2.33326165832e+15 22\n",
      "2.48121941892e+15 23\n",
      "2.49100176681e+15 24\n",
      "2.56958073003e+15 25\n",
      "2.51378116471e+15 26\n",
      "2.54180126674e+15 27\n",
      "2.52729972371e+15 28\n",
      "2.43222639198e+15 29\n",
      "2.5219580168e+15 30\n",
      "2.51611419855e+15 31\n",
      "2.54958964672e+15 32\n",
      "2.41187562344e+15 33\n",
      "2.58893573181e+15 34\n",
      "2.54284265449e+15 35\n",
      "2.48620616786e+15 36\n",
      "2.64344208839e+15 37\n",
      "2.62145286635e+15 38\n",
      "2.60769161769e+15 39\n",
      "2.42696878828e+15 40\n",
      "2.49623508608e+15 41\n",
      "2.38550825859e+15 42\n",
      "2.54284974286e+15 43\n",
      "2.43229881851e+15 44\n",
      "2.44077532307e+15 45\n",
      "2.57774420024e+15 46\n",
      "2.48615799403e+15 47\n",
      "2.54048599524e+15 48\n",
      "2.46387344476e+15 49\n",
      "2.43598385647e+15 50\n",
      "2.50927292482e+15 51\n",
      "2.38924270818e+15 52\n",
      "2.51380264441e+15 53\n",
      "2.53524156781e+15 54\n",
      "2.52557710005e+15 55\n",
      "2.50073430519e+15 56\n",
      "2.5635593889e+15 57\n",
      "2.43042558281e+15 58\n",
      "2.46665534987e+15 59\n",
      "2.55279839978e+15 60\n",
      "2.51616870593e+15 61\n",
      "2.48372711356e+15 62\n",
      "2.38377194572e+15 63\n",
      "2.48403802521e+15 64\n",
      "2.45746378261e+15 65\n",
      "2.44454190906e+15 66\n",
      "2.52607240082e+15 67\n",
      "2.46386873151e+15 68\n",
      "2.45595765785e+15 69\n",
      "2.3318234312e+15 70\n",
      "2.38819358574e+15 71\n",
      "2.47231700812e+15 72\n",
      "2.44373724558e+15 73\n",
      "2.44950689543e+15 74\n",
      "2.50235974829e+15 75\n",
      "2.47390251895e+15 76\n",
      "2.44140415825e+15 77\n",
      "2.53777490728e+15 78\n",
      "2.44465131534e+15 79\n",
      "2.48314543092e+15 80\n",
      "2.44309471826e+15 81\n",
      "2.56986355955e+15 82\n",
      "2.51274886881e+15 83\n",
      "2.56787682285e+15 84\n",
      "2.48332767396e+15 85\n",
      "2.52901362046e+15 86\n",
      "2.52796363183e+15 87\n",
      "2.49464772602e+15 88\n",
      "2.59876574568e+15 89\n",
      "2.48872027745e+15 90\n",
      "2.51892966854e+15 91\n",
      "2.47925392184e+15 92\n",
      "2.5266326875e+15 93\n",
      "2.46942858339e+15 94\n",
      "2.51576887599e+15 95\n",
      "2.43784687282e+15 96\n",
      "2.44810581737e+15 97\n",
      "2.45454161291e+15 98\n",
      "2.49177957787e+15 99\n"
     ]
    },
    {
     "data": {
      "image/png": "[encoded data removed]",
      "text/plain": [
       "<matplotlib.figure.Figure at 0x10a3be0d0>"
      ]
     },
     "metadata": {},
     "output_type": "display_data"
    }
   ],
   "source": [
    "r=100\n",
    "n=52397\n",
    "b=n**0.7\n",
    "w_estimate=BLB(int(b),5,r)\n",
    "def err_for_subset(x):\n",
    "    err=0\n",
    "    for i in range(len(x[0])):\n",
    "        for j in range(len(x)):\n",
    "            err+=sum(abs(x[j][i]-w_true))\n",
    "    return err\n",
    "err_rate=[]\n",
    "subset_num=[]\n",
    "final_err=[]\n",
    "previous_err=0\n",
    "current_err=10**10\n",
    "s=1\n",
    "while s<100: #abs(current_err-previous_err)>=10**10:\n",
    "    previous_err=current_err\n",
    "    subset_num.append(s)\n",
    "    w_estimate=BLB(int(b),s,r)\n",
    "    current_err=err_for_subset(w_estimate)/s\n",
    "    final_err.append(err_for_subset(w_estimate)/s)\n",
    "    err_rate.append(numpy.mean(final_err))\n",
    "    print current_err,s\n",
    "    s+=1\n",
    "    \n",
    "plt.plot(subset_num,final_err)\n",
    "plt.show()"
   ]
  },
  {
   "cell_type": "markdown",
   "metadata": {},
   "source": [
    " Based on the graph, the curv satrted to converge when s is around 90."
   ]
  },
  {
   "cell_type": "markdown",
   "metadata": {},
   "source": [
    "# Covert true coeffient from array to list"
   ]
  },
  {
   "cell_type": "code",
   "execution_count": 184,
   "metadata": {},
   "outputs": [],
   "source": [
    "w_true=w_true.tolist()"
   ]
  },
  {
   "cell_type": "markdown",
   "metadata": {},
   "source": [
    "# find the largest five coefficient in true W"
   ]
  },
  {
   "cell_type": "code",
   "execution_count": 185,
   "metadata": {},
   "outputs": [
    {
     "name": "stdout",
     "output_type": "stream",
     "text": [
      "5 top coefficient and their indexes is: [(548738288865.90826, 59), (409819953724.3618, 57), (320350890164.3806, 37), (301677629165.64154, 17), (164836338020.19968, 27)]\n"
     ]
    }
   ],
   "source": [
    "import heapq\n",
    "large_list= heapq.nlargest(5, w_true)\n",
    "list_5=[]\n",
    "for i in large_list:\n",
    "    for j in range(len(w_true)):\n",
    "        if w_true[j]==i:\n",
    "            list_5.append((i,j))\n",
    "print \"5 top coefficient and their indexes is:\",list_5"
   ]
  },
  {
   "cell_type": "markdown",
   "metadata": {},
   "source": [
    "# calculate the BLB coefficient for s equals to 90"
   ]
  },
  {
   "cell_type": "code",
   "execution_count": null,
   "metadata": {
    "collapsed": true
   },
   "outputs": [],
   "source": [
    "# r=100\n",
    "n=52397\n",
    "b=n**0.7\n",
    "s=90\n",
    "All_w=BLB(int(b),r,s)\n",
    "        "
   ]
  },
  {
   "cell_type": "markdown",
   "metadata": {},
   "source": [
    "# Function to find 95% confidence interval"
   ]
  },
  {
   "cell_type": "code",
   "execution_count": 189,
   "metadata": {},
   "outputs": [],
   "source": [
    "def conf_in(k):\n",
    "    coefficient=[]\n",
    "    for i in range(len(All_w)):\n",
    "        for j in range(len(All_w[0])):\n",
    "            coefficient.append(All_w[i][j][list_5[k][1]])\n",
    "    diff_list=[]\n",
    "    for i in coefficient:\n",
    "        diff_list.append(abs(i-list_5[k][0]))\n",
    "    ordered_diff_list=sorted(diff_list)\n",
    "    total_num=len(sorted(diff_list))\n",
    "    up_index= int(total_num*0.95)\n",
    "    down_index=int(total_num*0.05)\n",
    "    #print ordered_diff_list[down_index],ordered_diff_list[up_index]\n",
    "    conffidence_interval=[list_5[k][0]-ordered_diff_list[down_index],list_5[k][0]+ordered_diff_list[up_index]]\n",
    "    return conffidence_interval\n"
   ]
  },
  {
   "cell_type": "markdown",
   "metadata": {},
   "source": [
    "# calculate the confidence interval for 5 largest coefficients"
   ]
  },
  {
   "cell_type": "code",
   "execution_count": 190,
   "metadata": {},
   "outputs": [
    {
     "name": "stdout",
     "output_type": "stream",
     "text": [
      "conffidence interval for 1 coefficient is: [440985539377.90405, 2510395060793.4531]\n",
      "conffidence interval for 2 coefficient is: [329345841192.43768, 1874864591225.2776]\n",
      "conffidence interval for 3 coefficient is: [250870492285.7077, 2718153437385.4766]\n",
      "conffidence interval for 4 coefficient is: [231120509672.72357, 3155397416525.6777]\n",
      "conffidence interval for 5 coefficient is: [118874077148.32458, 2455901885306.3066]\n"
     ]
    }
   ],
   "source": [
    "conffidence_interval=[]\n",
    "for i in range(0,5):\n",
    "    print \"conffidence interval for\", i+1 ,\"coefficient is:\", conf_in(i)"
   ]
  },
  {
   "cell_type": "code",
   "execution_count": null,
   "metadata": {
    "collapsed": true
   },
   "outputs": [],
   "source": []
  }
 ],
 "metadata": {
  "kernelspec": {
   "display_name": "Python 2",
   "language": "python",
   "name": "python2"
  },
  "language_info": {
   "codemirror_mode": {
    "name": "ipython",
    "version": 2
   },
   "file_extension": ".py",
   "mimetype": "text/x-python",
   "name": "python",
   "nbconvert_exporter": "python",
   "pygments_lexer": "ipython2",
   "version": "2.7.13"
  }
 },
 "nbformat": 4,
 "nbformat_minor": 2
}
