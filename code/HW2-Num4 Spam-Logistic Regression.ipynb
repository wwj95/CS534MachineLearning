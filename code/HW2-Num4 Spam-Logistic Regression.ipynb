{
 "cells": [
  {
   "cell_type": "markdown",
   "metadata": {},
   "source": [
    "# Load Data"
   ]
  },
  {
   "cell_type": "code",
   "execution_count": 21,
   "metadata": {},
   "outputs": [
    {
     "data": {
      "text/plain": [
       "''"
      ]
     },
     "execution_count": 21,
     "metadata": {},
     "output_type": "execute_result"
    }
   ],
   "source": [
    "import numpy as np\n",
    "import math\n",
    "filename='/Users/wendy/Documents/2017 Fall/CS 534/homework1/spam-dataset/train-features.txt'\n",
    "train_feature = np.loadtxt(filename)  \n",
    "filename='/Users/wendy/Documents/2017 Fall/CS 534/homework1/spam-dataset/test-features.txt'\n",
    "test_feature = np.loadtxt(filename)\n",
    "\n",
    "filename='/Users/wendy/Documents/2017 Fall/CS 534/homework1/spam-dataset/train-labels.txt'\n",
    "file=open(filename, 'r')\n",
    "train_label = file.read().split('\\n')\n",
    "train_label.pop()\n",
    "filename='/Users/wendy/Documents/2017 Fall/CS 534/homework1/spam-dataset/test-labels.txt'\n",
    "file=open(filename, 'r')\n",
    "test_label = file.read().split('\\n')\n",
    "test_label.pop()\n"
   ]
  },
  {
   "cell_type": "markdown",
   "metadata": {},
   "source": [
    "# Function to calculate Err and AUC"
   ]
  },
  {
   "cell_type": "code",
   "execution_count": 3,
   "metadata": {
    "collapsed": true
   },
   "outputs": [],
   "source": [
    "def err_AUC():\n",
    "    err=0\n",
    "    for i in range(len(predictions)):\n",
    "        if predictions[i]!=test_label[i]:\n",
    "            err+=1\n",
    "    label=[]\n",
    "    for i in test_label:\n",
    "        i=int(i)\n",
    "        label.append(i)\n",
    "    auc = roc_auc_score(label,score[:,1])\n",
    "    return err, auc"
   ]
  },
  {
   "cell_type": "markdown",
   "metadata": {},
   "source": [
    "# Z-score Normalization"
   ]
  },
  {
   "cell_type": "code",
   "execution_count": 23,
   "metadata": {},
   "outputs": [
    {
     "name": "stdout",
     "output_type": "stream",
     "text": [
      "Error for standard Logistic Regression is: 9 AUC for standard Logistic Regression is: 0.988343195266\n"
     ]
    },
    {
     "data": {
      "image/png": "[encoded data removed]",
      "text/plain": [
       "<matplotlib.figure.Figure at 0x10d3def90>"
      ]
     },
     "metadata": {},
     "output_type": "display_data"
    },
    {
     "name": "stdout",
     "output_type": "stream",
     "text": [
      "Based on 5-fold CV, the best parameter is: 0.312571584969\n",
      "Error for Lasso is: 5 AUC for Lasso is: 0.999201183432\n"
     ]
    },
    {
     "data": {
      "image/png": "[encoded data removed]",
      "text/plain": [
       "<matplotlib.figure.Figure at 0x11ce0f7d0>"
      ]
     },
     "metadata": {},
     "output_type": "display_data"
    },
    {
     "name": "stdout",
     "output_type": "stream",
     "text": [
      "Based on 5-fold CV, the best parameter is: 0.0242012826479\n",
      "Error for Ridge is: 4 AUC for Ridge is: 0.999053254438\n"
     ]
    }
   ],
   "source": [
    "import numpy as np\n",
    "from sklearn.metrics import roc_auc_score\n",
    "from sklearn.linear_model.logistic import LogisticRegression\n",
    "from sklearn.model_selection import cross_val_score\n",
    "import matplotlib.pyplot as plt\n",
    "######matrix transformation#######\n",
    "train_matrix=np.zeros((700,2500))\n",
    "test_matrix=np.zeros((260,2500))\n",
    "for line in train_feature:\n",
    "    train_matrix[int(line[0])-1][int(line[1])-1]=line[2]\n",
    "for line in test_feature:\n",
    "    test_matrix[int(line[0])-1][int(line[1])-1]=line[2]\n",
    "######z-score regulization#######\n",
    "for i in range(len(train_matrix[0])):\n",
    "    mu=np.average(train_matrix[:,i])\n",
    "    sigma=np.std(train_matrix[:,i])\n",
    "    for j in range(len(train_matrix)):\n",
    "        if sigma!=0:\n",
    "            train_matrix[j,i] = ( train_matrix[j,i] - mu) / sigma \n",
    "\n",
    "for i in range(len(test_matrix[0])):\n",
    "    mu=np.average(test_matrix[:,i])\n",
    "    sigma=np.std(test_matrix[:,i])\n",
    "    for j in range(len(test_matrix)):\n",
    "        if sigma!=0:\n",
    "            test_matrix[j,i] = ( test_matrix[j,i] - mu) / sigma \n",
    "            \n",
    "######Standard Logistic Regression#########\n",
    "classifier=LogisticRegression(C=1000000000000)\n",
    "classifier.fit(train_matrix,train_label)\n",
    "predictions=classifier.predict(test_matrix)\n",
    "predict_proba=classifier.predict_proba(test_matrix)\n",
    "score=np.array(predict_proba)\n",
    "err_standard,AUC_standard=err_AUC()\n",
    "print 'Error for standard Logistic Regression is:',err_standard,'AUC for standard Logistic Regression is:',AUC_standard\n",
    "#######LASSO Logistic Regression###########\n",
    "lamlist=list(np.logspace(-10,0,100))\n",
    "result=[]\n",
    "best_lambda=0\n",
    "best_score=0\n",
    "for i in lamlist:\n",
    "    classifier=LogisticRegression(penalty='l1',C=i)\n",
    "    scores = cross_val_score(classifier, train_matrix, train_label, cv=5)\n",
    "    result.append(np.mean(scores))\n",
    "    if np.mean(scores)>best_score:\n",
    "        best_score=np.mean(scores)\n",
    "        best_lambda=i\n",
    "plt.plot(lamlist,result,'k')\n",
    "plt.show()\n",
    "print 'Based on 5-fold CV, the best parameter is:', best_lambda\n",
    "classifier=LogisticRegression(penalty='l1',C=best_lambda)\n",
    "classifier.fit(train_matrix,train_label)\n",
    "predictions=classifier.predict(test_matrix)\n",
    "predict_proba=classifier.predict_proba(test_matrix)\n",
    "score=np.array(predict_proba)\n",
    "err_lasso,AUC_lasso=err_AUC()\n",
    "print 'Error for Lasso is:',err_lasso,'AUC for Lasso is:',AUC_lasso\n",
    "#########Ridge Logistic Regression#######\n",
    "result=[]\n",
    "best_lambda=0\n",
    "best_score=0\n",
    "for i in lamlist:\n",
    "    classifier=LogisticRegression(penalty='l2',C=i)\n",
    "    scores = cross_val_score(classifier, train_matrix, train_label, cv=5)\n",
    "    result.append(np.mean(scores))\n",
    "    if np.mean(scores)>best_score:\n",
    "        best_score=np.mean(scores)\n",
    "        best_lambda=i\n",
    "plt.plot(lamlist,result)\n",
    "plt.show()\n",
    "print 'Based on 5-fold CV, the best parameter is:', best_lambda\n",
    "classifier=LogisticRegression(penalty='l2',C=best_lambda)\n",
    "classifier.fit(train_matrix,train_label)\n",
    "predictions=classifier.predict(test_matrix)\n",
    "predict_proba=classifier.predict_proba(test_matrix)\n",
    "score=np.array(predict_proba)\n",
    "err_ridge,AUC_ridge=err_AUC()\n",
    "print 'Error for Ridge is:',err_ridge,'AUC for Ridge is:',AUC_ridge"
   ]
  },
  {
   "cell_type": "markdown",
   "metadata": {},
   "source": [
    "# Frequency Normalization\n"
   ]
  },
  {
   "cell_type": "code",
   "execution_count": 19,
   "metadata": {},
   "outputs": [
    {
     "name": "stdout",
     "output_type": "stream",
     "text": [
      "Error for standard Logistic Regression is: 3 AUC for standard Logistic Regression is: 0.999585798817\n"
     ]
    },
    {
     "data": {
      "image/png": "[encoded data removed]",
      "text/plain": [
       "<matplotlib.figure.Figure at 0x11710bb50>"
      ]
     },
     "metadata": {},
     "output_type": "display_data"
    },
    {
     "name": "stdout",
     "output_type": "stream",
     "text": [
      "Based on 5-fold CV, the best parameter is: 1291549.66501\n",
      "Error for Lasso is: 3 AUC for Lasso is: 0.999644970414\n"
     ]
    },
    {
     "data": {
      "image/png": "[encoded data removed]",
      "text/plain": [
       "<matplotlib.figure.Figure at 0x11ea36d50>"
      ]
     },
     "metadata": {},
     "output_type": "display_data"
    },
    {
     "name": "stdout",
     "output_type": "stream",
     "text": [
      "Based on 5-fold CV, the best parameter is: 2782559402.21\n",
      "Error for Ridge is: 1 AUC for Ridge is: 0.999822485207\n"
     ]
    }
   ],
   "source": [
    "train_matrix=np.zeros((700,2500))\n",
    "test_matrix=np.zeros((260,2500))\n",
    "  \n",
    "for line in train_feature:\n",
    "    train_matrix[int(line[0])-1][int(line[1])-1]=line[2]\n",
    "for line in test_feature:\n",
    "    test_matrix[int(line[0])-1][int(line[1])-1]=line[2]\n",
    "\n",
    "train_total_freq=0\n",
    "for i in train_matrix:\n",
    "    train_total_freq+=sum(i)\n",
    "\n",
    "test_total_freq=0\n",
    "for i in test_matrix:\n",
    "    test_total_freq+=sum(i)\n",
    "\n",
    "for line in train_feature:\n",
    "    train_matrix[int(line[0])-1][int(line[1])-1]=line[2]/train_total_freq\n",
    "for line in test_feature:\n",
    "    test_matrix[int(line[0])-1][int(line[1])-1]=line[2]/test_total_freq\n",
    "######Standard Logistic Regression#########\n",
    "classifier=LogisticRegression(C=100000000000)\n",
    "classifier.fit(train_matrix,train_label)\n",
    "predictions=classifier.predict(test_matrix)\n",
    "predict_proba=classifier.predict_proba(test_matrix)\n",
    "score=np.array(predict_proba)\n",
    "err_standard,AUC_standard=err_AUC()\n",
    "print 'Error for standard Logistic Regression is:',err_standard,'AUC for standard Logistic Regression is:',AUC_standard\n",
    "#######LASSO Logistic Regression###########\n",
    "lamlist=list(np.logspace(5,10,10))\n",
    "result=[]\n",
    "best_lambda=0\n",
    "best_score=0\n",
    "for i in lamlist:\n",
    "    classifier=LogisticRegression(penalty='l1',C=i)\n",
    "    scores = cross_val_score(classifier, train_matrix, train_label, cv=5)\n",
    "    result.append(np.mean(scores))\n",
    "    if np.mean(scores)>best_score:\n",
    "        best_score=np.mean(scores)\n",
    "        best_lambda=i\n",
    "plt.plot(lamlist,result)\n",
    "plt.show()\n",
    "print 'Based on 5-fold CV, the best parameter is:', best_lambda\n",
    "classifier=LogisticRegression(penalty='l1',C=best_lambda)\n",
    "classifier.fit(train_matrix,train_label)\n",
    "predictions=classifier.predict(test_matrix)\n",
    "predict_proba=classifier.predict_proba(test_matrix)\n",
    "score=np.array(predict_proba)\n",
    "err_lasso,AUC_lasso=err_AUC()\n",
    "print 'Error for Lasso is:',err_lasso,'AUC for Lasso is:',AUC_lasso\n",
    "#########Ridge Logistic Regression#######\n",
    "lamlist=list(np.logspace(5,15,10))\n",
    "result=[]\n",
    "best_lambda=0\n",
    "best_score=0\n",
    "for i in lamlist:\n",
    "    classifier=LogisticRegression(penalty='l2',C=i)\n",
    "    scores = cross_val_score(classifier, train_matrix, train_label, cv=5)\n",
    "    result.append(np.mean(scores))\n",
    "    if np.mean(scores)>best_score:\n",
    "        best_score=np.mean(scores)\n",
    "        best_lambda=i\n",
    "plt.plot(lamlist,result)\n",
    "plt.show()\n",
    "print 'Based on 5-fold CV, the best parameter is:', best_lambda\n",
    "classifier=LogisticRegression(penalty='l2',C=best_lambda)\n",
    "classifier.fit(train_matrix,train_label)\n",
    "predictions=classifier.predict(test_matrix)\n",
    "predict_proba=classifier.predict_proba(test_matrix)\n",
    "score=np.array(predict_proba)\n",
    "err_ridge,AUC_ridge=err_AUC()\n",
    "print 'Error for Ridge is:',err_ridge,'AUC for Ridge is:',AUC_ridge"
   ]
  },
  {
   "cell_type": "markdown",
   "metadata": {},
   "source": [
    "# Log Normalization"
   ]
  },
  {
   "cell_type": "code",
   "execution_count": 18,
   "metadata": {},
   "outputs": [
    {
     "name": "stdout",
     "output_type": "stream",
     "text": [
      "Error for standard Logistic Regression is: 18 AUC for standard Logistic Regression is: 0.973431952663\n"
     ]
    },
    {
     "data": {
      "image/png": "[encoded data removed]",
      "text/plain": [
       "<matplotlib.figure.Figure at 0x11ce0f450>"
      ]
     },
     "metadata": {},
     "output_type": "display_data"
    },
    {
     "name": "stdout",
     "output_type": "stream",
     "text": [
      "Based on 5-fold CV, the best parameter is: 65.7933224658\n",
      "Error for Lasso is: 8 AUC for Lasso is: 0.99798816568\n"
     ]
    },
    {
     "data": {
      "image/png": "[encoded data removed]",
      "text/plain": [
       "<matplotlib.figure.Figure at 0x113103390>"
      ]
     },
     "metadata": {},
     "output_type": "display_data"
    },
    {
     "name": "stdout",
     "output_type": "stream",
     "text": [
      "Based on 5-fold CV, the best parameter is: 220.51307399\n",
      "Error for Ridge is: 8 AUC for Ridge is: 0.995857988166\n"
     ]
    }
   ],
   "source": [
    "train_matrix=np.zeros((700,2500))\n",
    "test_matrix=np.zeros((260,2500))\n",
    "for line in train_feature:\n",
    "    train_matrix[int(line[0])-1][int(line[1])-1]=math.log(line[2]+0.1)\n",
    "for line in test_feature:\n",
    "    test_matrix[int(line[0])-1][int(line[1])-1]=math.log(line[2]+0.1)\n",
    "\n",
    "######Standard Logistic Regression#########\n",
    "classifier=LogisticRegression(C=100000000000000)\n",
    "classifier.fit(train_matrix,train_label)\n",
    "predictions=classifier.predict(test_matrix)\n",
    "predict_proba=classifier.predict_proba(test_matrix)\n",
    "score=np.array(predict_proba)\n",
    "err_standard,AUC_standard=err_AUC()\n",
    "print 'Error for standard Logistic Regression is:',err_standard,'AUC for standard Logistic Regression is:',AUC_standard\n",
    "#######LASSO Logistic Regression###########\n",
    "lamlist=list(np.logspace(-10,3,100))\n",
    "result=[]\n",
    "best_lambda=0\n",
    "best_score=0\n",
    "for i in lamlist:\n",
    "    classifier=LogisticRegression(penalty='l1',C=i)\n",
    "    scores = cross_val_score(classifier, train_matrix, train_label, cv=5)\n",
    "    result.append(np.mean(scores))\n",
    "    if np.mean(scores)>best_score:\n",
    "        best_score=np.mean(scores)\n",
    "        best_lambda=i\n",
    "plt.plot(lamlist,result)\n",
    "plt.show()\n",
    "print 'Based on 5-fold CV, the best parameter is:', best_lambda\n",
    "classifier=LogisticRegression(penalty='l1',C=best_lambda)\n",
    "classifier.fit(train_matrix,train_label)\n",
    "predictions=classifier.predict(test_matrix)\n",
    "predict_proba=classifier.predict_proba(test_matrix)\n",
    "score=np.array(predict_proba)\n",
    "err_lasso,AUC_lasso=err_AUC()\n",
    "print 'Error for Lasso is:',err_lasso,'AUC for Lasso is:',AUC_lasso\n",
    "#########Ridge Logistic Regression#######\n",
    "result=[]\n",
    "best_lambda=0\n",
    "best_score=0\n",
    "for i in lamlist:\n",
    "    classifier=LogisticRegression(penalty='l2',C=i)\n",
    "    scores = cross_val_score(classifier, train_matrix, train_label, cv=5)\n",
    "    result.append(np.mean(scores))\n",
    "    if np.mean(scores)>best_score:\n",
    "        best_score=np.mean(scores)\n",
    "        best_lambda=i\n",
    "plt.plot(lamlist,result)\n",
    "plt.show()\n",
    "print 'Based on 5-fold CV, the best parameter is:', best_lambda\n",
    "classifier=LogisticRegression(penalty='l2',C=best_lambda)\n",
    "classifier.fit(train_matrix,train_label)\n",
    "predictions=classifier.predict(test_matrix)\n",
    "predict_proba=classifier.predict_proba(test_matrix)\n",
    "score=np.array(predict_proba)\n",
    "err_ridge,AUC_ridge=err_AUC()\n",
    "print 'Error for Ridge is:',err_ridge,'AUC for Ridge is:',AUC_ridge"
   ]
  },
  {
   "cell_type": "markdown",
   "metadata": {
    "collapsed": true
   },
   "source": [
    "Table for err-rate\n",
    "\n",
    "|         |Standard Logistic|LASSO Logistic| Ridge Logistic|\n",
    "| ------------- |:-------------:| ---------:|\n",
    "|Z-score Normalization|0.0346|0.0192|0.0154|\n",
    "| Frequence Normalization|0.0115|0.0115|0.0038|\n",
    "| log Normalization|0.0692|0.0308|0.0308|\n"
   ]
  },
  {
   "cell_type": "markdown",
   "metadata": {},
   "source": [
    "Table for AUC\n",
    "\n",
    "|         |Standard Logistic|LASSO Logistic| Ridge Logistic|\n",
    "| ------------- |:-------------:| ---------:|\n",
    "|Z-score Normalization|0.9883|0.9990|0.9993|\n",
    "| Frequence Normalization|0.9995|0.9996|0.9998|\n",
    "| log Normalization|0.973|0.998|0.996|\n",
    "\n"
   ]
  },
  {
   "cell_type": "markdown",
   "metadata": {},
   "source": [
    "Comment：\n",
    "Overall, in all three nomalizaiton methods, Logistic regression with LASSO and Ridge have a better performance compared to standard logistic. In Z-score and Frequency normalization, Ridge has a lower error rate and higher AUC than LASSO and in log normalizaiton, LASSO and Ridge have same err-rate and LASSO has a higher AUC.\n"
   ]
  },
  {
   "cell_type": "code",
   "execution_count": 2,
   "metadata": {},
   "outputs": [
    {
     "ename": "ImportError",
     "evalue": "cannot import name __check_build",
     "output_type": "error",
     "traceback": [
      "\u001b[0;31m---------------------------------------------------------------------------\u001b[0m",
      "\u001b[0;31mImportError\u001b[0m                               Traceback (most recent call last)",
      "\u001b[0;32m<ipython-input-2-4443bf36fc5e>\u001b[0m in \u001b[0;36m<module>\u001b[0;34m()\u001b[0m\n\u001b[1;32m      1\u001b[0m \u001b[0;32mimport\u001b[0m \u001b[0mtensorflow\u001b[0m \u001b[0;32mas\u001b[0m \u001b[0mtf\u001b[0m\u001b[0;34m\u001b[0m\u001b[0m\n\u001b[0;32m----> 2\u001b[0;31m \u001b[0;32mimport\u001b[0m \u001b[0msklearn\u001b[0m\u001b[0;34m\u001b[0m\u001b[0m\n\u001b[0m",
      "\u001b[0;32m/Users/wendy/.pyenv/versions/2.7.14/lib/python2.7/site-packages/sklearn/__init__.py\u001b[0m in \u001b[0;36m<module>\u001b[0;34m()\u001b[0m\n\u001b[1;32m    131\u001b[0m     \u001b[0;31m# process, as it may not be compiled yet\u001b[0m\u001b[0;34m\u001b[0m\u001b[0;34m\u001b[0m\u001b[0m\n\u001b[1;32m    132\u001b[0m \u001b[0;32melse\u001b[0m\u001b[0;34m:\u001b[0m\u001b[0;34m\u001b[0m\u001b[0m\n\u001b[0;32m--> 133\u001b[0;31m     \u001b[0;32mfrom\u001b[0m \u001b[0;34m.\u001b[0m \u001b[0;32mimport\u001b[0m \u001b[0m__check_build\u001b[0m\u001b[0;34m\u001b[0m\u001b[0m\n\u001b[0m\u001b[1;32m    134\u001b[0m     \u001b[0;32mfrom\u001b[0m \u001b[0;34m.\u001b[0m\u001b[0mbase\u001b[0m \u001b[0;32mimport\u001b[0m \u001b[0mclone\u001b[0m\u001b[0;34m\u001b[0m\u001b[0m\n\u001b[1;32m    135\u001b[0m     \u001b[0m__check_build\u001b[0m  \u001b[0;31m# avoid flakes unused variable error\u001b[0m\u001b[0;34m\u001b[0m\u001b[0m\n",
      "\u001b[0;31mImportError\u001b[0m: cannot import name __check_build"
     ]
    }
   ],
   "source": [
    "import tensorflow as tf\n",
    "import sklearn"
   ]
  },
  {
   "cell_type": "code",
   "execution_count": null,
   "metadata": {},
   "outputs": [],
   "source": []
  },
  {
   "cell_type": "code",
   "execution_count": null,
   "metadata": {},
   "outputs": [],
   "source": []
  }
 ],
 "metadata": {
  "kernelspec": {
   "display_name": "Python 2",
   "language": "python",
   "name": "python2"
  },
  "language_info": {
   "codemirror_mode": {
    "name": "ipython",
    "version": 2
   },
   "file_extension": ".py",
   "mimetype": "text/x-python",
   "name": "python",
   "nbconvert_exporter": "python",
   "pygments_lexer": "ipython2",
   "version": "2.7.14"
  }
 },
 "nbformat": 4,
 "nbformat_minor": 2
}
